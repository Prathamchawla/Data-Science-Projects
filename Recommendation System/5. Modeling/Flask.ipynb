{
 "cells": [
  {
   "cell_type": "code",
   "execution_count": 1,
   "id": "283328fa",
   "metadata": {},
   "outputs": [],
   "source": [
    "from flask import Flask,render_template,request\n",
    "import pickle"
   ]
  },
  {
   "cell_type": "code",
   "execution_count": 2,
   "id": "0d8807fb",
   "metadata": {},
   "outputs": [],
   "source": [
    "app = Flask(__name__)"
   ]
  },
  {
   "cell_type": "code",
   "execution_count": 3,
   "id": "101f79bc",
   "metadata": {},
   "outputs": [
    {
     "name": "stdout",
     "output_type": "stream",
     "text": [
      "Requirement already satisfied: pyodbc in c:\\users\\hp\\anaconda3\\lib\\site-packages (4.0.34)\n",
      "Note: you may need to restart the kernel to use updated packages.\n",
      "<pyodbc.Connection object at 0x000001F4E616A9F0>\n"
     ]
    },
    {
     "name": "stderr",
     "output_type": "stream",
     "text": [
      "C:\\Users\\HP\\anaconda3\\lib\\site-packages\\pandas\\io\\sql.py:762: UserWarning: pandas only support SQLAlchemy connectable(engine/connection) ordatabase string URI or sqlite3 DBAPI2 connectionother DBAPI2 objects are not tested, please consider using SQLAlchemy\n",
      "  warnings.warn(\n",
      "C:\\Users\\HP\\AppData\\Local\\Temp\\ipykernel_13940\\3333919693.py:1: SettingWithCopyWarning: \n",
      "A value is trying to be set on a copy of a slice from a DataFrame.\n",
      "Try using .loc[row_indexer,col_indexer] = value instead\n",
      "\n",
      "See the caveats in the documentation: https://pandas.pydata.org/pandas-docs/stable/user_guide/indexing.html#returning-a-view-versus-a-copy\n",
      "  data['text'] =data['artist']+ ' ' + data['tags']+ ' ' + data['genre']\n",
      "C:\\Users\\HP\\AppData\\Local\\Temp\\ipykernel_13940\\2282015914.py:1: SettingWithCopyWarning: \n",
      "A value is trying to be set on a copy of a slice from a DataFrame\n",
      "\n",
      "See the caveats in the documentation: https://pandas.pydata.org/pandas-docs/stable/user_guide/indexing.html#returning-a-view-versus-a-copy\n",
      "  data.drop_duplicates(inplace=True)\n"
     ]
    },
    {
     "name": "stdout",
     "output_type": "stream",
     "text": [
      "Recommended Songs: 1957        My Week Beats Your Year\n",
      "3615                Your Every Idol\n",
      "6924             Mostly Translucent\n",
      "12189    Stay Away From Being Maybe\n",
      "3596              Immolate Yourself\n",
      "6966                  Helen of Troy\n",
      "30876                     Reversing\n",
      "8000                    Bluebottles\n",
      "8001                          Raido\n",
      "8002                            111\n",
      "Name: name, dtype: object\n"
     ]
    }
   ],
   "source": [
    "%run Modeling.ipynb"
   ]
  },
  {
   "cell_type": "code",
   "execution_count": 4,
   "id": "01379114",
   "metadata": {},
   "outputs": [],
   "source": [
    "with open('recommendations.pkl', 'rb') as file:\n",
    "    get_recommendations, data, indices, cosine_sim = pickle.load(file)"
   ]
  },
  {
   "cell_type": "code",
   "execution_count": 5,
   "id": "df8c89ae-c12e-4f0c-a6b7-e78e76d632f1",
   "metadata": {},
   "outputs": [],
   "source": [
    "@app.route('/')\n",
    "def index():\n",
    "    return render_template('recommendations.html', recommended_songs=[])"
   ]
  },
  {
   "cell_type": "code",
   "execution_count": 6,
   "id": "1e37cd96-4565-41fe-9bc6-eea999df18b2",
   "metadata": {},
   "outputs": [],
   "source": [
    "@app.route('/get_recommendations', methods=['POST'])\n",
    "def get_recommendations_route():\n",
    "    song_name = request.form['song_name']\n",
    "    recommended_songs = get_recommendations(song_name)\n",
    "    return render_template('recommendations.html', recommended_songs=recommended_songs)"
   ]
  },
  {
   "cell_type": "code",
   "execution_count": null,
   "id": "f8c32b9d-6faa-4db5-839b-247ad0bcba3c",
   "metadata": {},
   "outputs": [
    {
     "name": "stdout",
     "output_type": "stream",
     "text": [
      " * Serving Flask app '__main__' (lazy loading)\n",
      " * Environment: production\n",
      "\u001b[31m   WARNING: This is a development server. Do not use it in a production deployment.\u001b[0m\n",
      "\u001b[2m   Use a production WSGI server instead.\u001b[0m\n",
      " * Debug mode: off\n"
     ]
    },
    {
     "name": "stderr",
     "output_type": "stream",
     "text": [
      " * Running on all addresses.\n",
      "   WARNING: This is a development server. Do not use it in a production deployment.\n",
      " * Running on http://172.30.51.212:5000/ (Press CTRL+C to quit)\n",
      "172.30.51.212 - - [13/Sep/2023 13:46:01] \"GET / HTTP/1.1\" 200 -\n",
      "[2023-09-13 13:46:15,904] ERROR in app: Exception on /get_recommendations [POST]\n",
      "Traceback (most recent call last):\n",
      "  File \"C:\\Users\\HP\\anaconda3\\lib\\site-packages\\pandas\\core\\indexes\\base.py\", line 3629, in get_loc\n",
      "    return self._engine.get_loc(casted_key)\n",
      "  File \"pandas\\_libs\\index.pyx\", line 136, in pandas._libs.index.IndexEngine.get_loc\n",
      "  File \"pandas\\_libs\\index.pyx\", line 163, in pandas._libs.index.IndexEngine.get_loc\n",
      "  File \"pandas\\_libs\\hashtable_class_helper.pxi\", line 5198, in pandas._libs.hashtable.PyObjectHashTable.get_item\n",
      "  File \"pandas\\_libs\\hashtable_class_helper.pxi\", line 5206, in pandas._libs.hashtable.PyObjectHashTable.get_item\n",
      "KeyError: 'Come Cover Me'\n",
      "\n",
      "The above exception was the direct cause of the following exception:\n",
      "\n",
      "Traceback (most recent call last):\n",
      "  File \"C:\\Users\\HP\\anaconda3\\lib\\site-packages\\flask\\app.py\", line 2077, in wsgi_app\n",
      "    response = self.full_dispatch_request()\n",
      "  File \"C:\\Users\\HP\\anaconda3\\lib\\site-packages\\flask\\app.py\", line 1525, in full_dispatch_request\n",
      "    rv = self.handle_user_exception(e)\n",
      "  File \"C:\\Users\\HP\\anaconda3\\lib\\site-packages\\flask\\app.py\", line 1523, in full_dispatch_request\n",
      "    rv = self.dispatch_request()\n",
      "  File \"C:\\Users\\HP\\anaconda3\\lib\\site-packages\\flask\\app.py\", line 1509, in dispatch_request\n",
      "    return self.ensure_sync(self.view_functions[rule.endpoint])(**req.view_args)\n",
      "  File \"C:\\Users\\HP\\AppData\\Local\\Temp\\ipykernel_13940\\135510749.py\", line 4, in get_recommendations_route\n",
      "    recommended_songs = get_recommendations(song_name)\n",
      "  File \"C:\\Users\\HP\\AppData\\Local\\Temp\\ipykernel_13940\\315369475.py\", line 2, in get_recommendations\n",
      "    idx = indices[name]\n",
      "  File \"C:\\Users\\HP\\anaconda3\\lib\\site-packages\\pandas\\core\\series.py\", line 958, in __getitem__\n",
      "    return self._get_value(key)\n",
      "  File \"C:\\Users\\HP\\anaconda3\\lib\\site-packages\\pandas\\core\\series.py\", line 1069, in _get_value\n",
      "    loc = self.index.get_loc(label)\n",
      "  File \"C:\\Users\\HP\\anaconda3\\lib\\site-packages\\pandas\\core\\indexes\\base.py\", line 3631, in get_loc\n",
      "    raise KeyError(key) from err\n",
      "KeyError: 'Come Cover Me'\n",
      "172.30.51.212 - - [13/Sep/2023 13:46:15] \"POST /get_recommendations HTTP/1.1\" 500 -\n",
      "172.30.51.212 - - [13/Sep/2023 13:46:30] \"GET / HTTP/1.1\" 200 -\n",
      "172.30.51.212 - - [13/Sep/2023 13:46:31] \"GET / HTTP/1.1\" 200 -\n",
      "172.30.51.212 - - [13/Sep/2023 13:46:50] \"POST /get_recommendations HTTP/1.1\" 200 -\n"
     ]
    },
    {
     "name": "stdout",
     "output_type": "stream",
     "text": [
      "Recommended Songs: 2104     Satellite Mind\n",
      "608      Gimme Sympathy\n",
      "3190    Twilight Galaxy\n",
      "156      Help I'm Alive\n",
      "1309    Gold Guns Girls\n",
      "2556        Live It Out\n",
      "3186       Stadium Love\n",
      "3484          Blindness\n",
      "940         Hustle Rose\n",
      "8794           The List\n",
      "Name: name, dtype: object\n"
     ]
    },
    {
     "name": "stderr",
     "output_type": "stream",
     "text": [
      "172.30.51.212 - - [13/Sep/2023 13:47:09] \"POST /get_recommendations HTTP/1.1\" 200 -\n"
     ]
    },
    {
     "name": "stdout",
     "output_type": "stream",
     "text": [
      "Recommended Songs: 2104     Satellite Mind\n",
      "608      Gimme Sympathy\n",
      "3190    Twilight Galaxy\n",
      "156      Help I'm Alive\n",
      "1309    Gold Guns Girls\n",
      "2556        Live It Out\n",
      "3186       Stadium Love\n",
      "3484          Blindness\n",
      "940         Hustle Rose\n",
      "8794           The List\n",
      "Name: name, dtype: object\n"
     ]
    },
    {
     "name": "stderr",
     "output_type": "stream",
     "text": [
      "172.30.51.212 - - [13/Sep/2023 13:47:12] \"POST /get_recommendations HTTP/1.1\" 200 -\n"
     ]
    },
    {
     "name": "stdout",
     "output_type": "stream",
     "text": [
      "Recommended Songs: 2104     Satellite Mind\n",
      "608      Gimme Sympathy\n",
      "3190    Twilight Galaxy\n",
      "156      Help I'm Alive\n",
      "1309    Gold Guns Girls\n",
      "2556        Live It Out\n",
      "3186       Stadium Love\n",
      "3484          Blindness\n",
      "940         Hustle Rose\n",
      "8794           The List\n",
      "Name: name, dtype: object\n"
     ]
    },
    {
     "name": "stderr",
     "output_type": "stream",
     "text": [
      "172.30.51.212 - - [13/Sep/2023 13:47:23] \"POST /get_recommendations HTTP/1.1\" 200 -\n"
     ]
    },
    {
     "name": "stdout",
     "output_type": "stream",
     "text": [
      "Recommended Songs: 2836                 Tenuousness\n",
      "187                     Simple X\n",
      "6464                Plasticities\n",
      "28058                 The Supine\n",
      "7975     Yawny At the Apocalypse\n",
      "4561                Nomenclature\n",
      "16147             The Privateers\n",
      "28051                  Spare-Ohs\n",
      "2617                 Skin Is, My\n",
      "1497                        Lull\n",
      "Name: name, dtype: object\n"
     ]
    },
    {
     "name": "stderr",
     "output_type": "stream",
     "text": [
      "172.30.51.212 - - [13/Sep/2023 13:48:24] \"GET / HTTP/1.1\" 200 -\n",
      "172.30.51.212 - - [13/Sep/2023 14:12:01] \"POST /get_recommendations HTTP/1.1\" 200 -\n"
     ]
    },
    {
     "name": "stdout",
     "output_type": "stream",
     "text": [
      "Recommended Songs: 2836                 Tenuousness\n",
      "187                     Simple X\n",
      "6464                Plasticities\n",
      "28058                 The Supine\n",
      "7975     Yawny At the Apocalypse\n",
      "4561                Nomenclature\n",
      "16147             The Privateers\n",
      "28051                  Spare-Ohs\n",
      "2617                 Skin Is, My\n",
      "1497                        Lull\n",
      "Name: name, dtype: object\n"
     ]
    }
   ],
   "source": [
    "if __name__ == '__main__':\n",
    "    app.run(host=\"0.0.0.0\")"
   ]
  },
  {
   "cell_type": "code",
   "execution_count": null,
   "id": "f893ada2",
   "metadata": {},
   "outputs": [],
   "source": []
  },
  {
   "cell_type": "code",
   "execution_count": null,
   "id": "1245497a",
   "metadata": {},
   "outputs": [],
   "source": []
  },
  {
   "cell_type": "code",
   "execution_count": null,
   "id": "95070653",
   "metadata": {},
   "outputs": [],
   "source": []
  },
  {
   "cell_type": "code",
   "execution_count": null,
   "id": "7ca5f23e",
   "metadata": {},
   "outputs": [],
   "source": []
  },
  {
   "cell_type": "code",
   "execution_count": null,
   "id": "59942bcf",
   "metadata": {},
   "outputs": [],
   "source": []
  },
  {
   "cell_type": "code",
   "execution_count": null,
   "id": "cc14fae1",
   "metadata": {},
   "outputs": [],
   "source": []
  },
  {
   "cell_type": "code",
   "execution_count": null,
   "id": "2cbb590b",
   "metadata": {},
   "outputs": [],
   "source": []
  },
  {
   "cell_type": "code",
   "execution_count": null,
   "id": "0ee53236",
   "metadata": {},
   "outputs": [],
   "source": []
  },
  {
   "cell_type": "code",
   "execution_count": null,
   "id": "72155c7f",
   "metadata": {},
   "outputs": [],
   "source": []
  }
 ],
 "metadata": {
  "kernelspec": {
   "display_name": "Python 3 (ipykernel)",
   "language": "python",
   "name": "python3"
  },
  "language_info": {
   "codemirror_mode": {
    "name": "ipython",
    "version": 3
   },
   "file_extension": ".py",
   "mimetype": "text/x-python",
   "name": "python",
   "nbconvert_exporter": "python",
   "pygments_lexer": "ipython3",
   "version": "3.9.13"
  }
 },
 "nbformat": 4,
 "nbformat_minor": 5
}
